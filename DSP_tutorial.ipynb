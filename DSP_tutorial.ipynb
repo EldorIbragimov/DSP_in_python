{
 "cells": [
  {
   "cell_type": "markdown",
   "metadata": {},
   "source": [
    "   #                                <h1><center>Digital Signal Processing tutorials</center></h1>\n"
   ]
  },
  {
   "cell_type": "markdown",
   "metadata": {},
   "source": [
    "<img src=\"https://cdn.eeweb.com/articles/quizzes/AudioProcessing-1447060160.jpg\">\n",
    "\n",
    "\n",
    "\n",
    "\n"
   ]
  },
  {
   "cell_type": "markdown",
   "metadata": {},
   "source": [
    "## Table of Contents\n",
    "\n",
    "<ul>\n",
    "<li><a href=\"#intro\">Introduction to Digital Signal Processing</a></li>\n",
    "<li><a href=\"#quantization\">Quantization and The Sampling Theorem</a></li>\n",
    "<li><a href=\"#lss\">Linear Systems and Superposition</a></li>\n",
    "<li><a href=\"#convolution\">Convolution</a></li>\n",
    "<li><a href=\"#ft\">Fourier Transform</a></li> \n",
    "<li><a href=\"#complex\">Complex Numbers</a></li>\n",
    "<li><a href=\"#cft\">Complex Fourier Transform</a></li>    \n",
    "<li><a href=\"#fft\">Fast Fourier Transform</a></li>\n",
    "<li><a href=\"#dfd\">Digital Filter Design</a></li>\n",
    "<li><a href=\"#fir\">Finite and Infinite Impulse Response filters</a></li>\n",
    "<li><a href=\"#wf\">Filters: Windowed, Custom and Match</a></li>\n",
    "<li><a href=\"#fftconvolution\">FFT Convolution</a></li>\n",
    "<li><a href=\"#lti\">Linear time Invariant systems</a></li>\n",
    "<li><a href=\"#interp\">Interpolation</a></li>\n",
    "<li><a href=\"#wg\">Waveform Generation</a></li>    \n",
    "</ul>"
   ]
  },
  {
   "cell_type": "markdown",
   "metadata": {},
   "source": [
    "### *Note**:\n",
    "* Given self-study notes are written in Jupyter Notebook environment\n",
    "* All the codes are implemented in Python\n",
    "* All provided materials are gathered based on multiple resources "
   ]
  },
  {
   "cell_type": "markdown",
   "metadata": {},
   "source": [
    "<a id='intro'></a>\n",
    "# I. Introduction to Digital Signal Processing (DSP)\n",
    "- 1) What is Digital Signal Processing?\n",
    "- 2) Simple signal generations \n",
    "\n"
   ]
  },
  {
   "cell_type": "markdown",
   "metadata": {},
   "source": [
    "<h1 style=\"color:black;font-size:20px;\"> 1.1 What is Digital Signal Processing?</h1>\n",
    "\n",
    "**Digital signal processing (DSP)** is the process of analyzing and modifying a signal to optimize or improve its efficiency or performance. It involves applying various mathematical and computational algorithms to analog and digital signals to produce a signal that's of higher quality than the original signal.\n"
   ]
  },
  {
   "cell_type": "markdown",
   "metadata": {},
   "source": [
    "<img src=\"https://www.allaboutcircuits.com/uploads/articles/An-Introduction-to-Digital-Signal-Processing-(3).png\" width=\"800\">"
   ]
  },
  {
   "cell_type": "markdown",
   "metadata": {},
   "source": [
    "<h1 style=\"color:black;font-size:20px;\"> 2.2 Simple Signal generations</h1>\n"
   ]
  },
  {
   "cell_type": "markdown",
   "metadata": {},
   "source": [
    "**Important python libraries for DSP analysis**\n",
    "\n",
    "- numpy\n",
    "- matplotlib\n",
    "- pandas\n",
    "- sicpy\n",
    "\n",
    "**Links and References**:\n",
    "- [Digital Signal Processing online book](https://dsp-nbsphinx.readthedocs.io/en/nbsphinx-experiment/index.html)\n",
    "- [DSP book(pdf)](https://users.dimi.uniud.it/~antonio.dangelo/MMS/materials/Guide_to_Digital_Signal_Process.pdf) \n",
    "- [Basics of DSP](http://www.hep.upatras.gr/class/download/psi_epe_sim/1_Basics_DSP_AV_Intro.pdf)\n",
    "- [SP (YouTube)](https://www.youtube.com/watch?v=w9Se072wt_8&list=PLJ-OcUCIty7evBmHvYRv66RcuziszpSFB&index=2)\n",
    "- [Signals and systems(Youtube)](https://www.youtube.com/watch?v=s8rsR_TStaA&list=PLBlnK6fEyqRhG6s3jYIU48CqsT5cyiDTO)"
   ]
  },
  {
   "cell_type": "markdown",
   "metadata": {},
   "source": [
    "### Coding for Signal generation "
   ]
  },
  {
   "cell_type": "code",
   "execution_count": 1,
   "metadata": {},
   "outputs": [],
   "source": [
    "# import libraries\n",
    "import numpy as np\n",
    "import matplotlib.pyplot as plt\n",
    "import pandas as pd\n",
    "import scipy as sc\n",
    "from scipy.io.wavfile import write\n",
    "import sounddevice as sd\n",
    "%matplotlib inline"
   ]
  },
  {
   "cell_type": "code",
   "execution_count": null,
   "metadata": {
    "scrolled": true
   },
   "outputs": [],
   "source": [
    "# generating random signals \n",
    "x = np.random.rand(10)\n",
    "y = np.random.rand(10)\n",
    "\n",
    "# plot the signal\n",
    "plt.plot(x, label = 'Line one')\n",
    "plt.plot(y, label = 'Line two')\n",
    "plt.legend()\n",
    "plt.grid(True)\n",
    "plt.title('Random signal generation');"
   ]
  },
  {
   "cell_type": "markdown",
   "metadata": {},
   "source": [
    "#### Audio file generation with random numbers"
   ]
  },
  {
   "cell_type": "code",
   "execution_count": null,
   "metadata": {
    "scrolled": true
   },
   "outputs": [],
   "source": [
    "data = np.random.uniform(-1,1,54100) # 44100 random samples between -1 and 1\n",
    "scaled = np.int16(data/np.max(np.abs(data)) * 32767)\n",
    "write('Random.wav', 44100, scaled)\n",
    "\n",
    "f = plt.figure(figsize=(16,10))\n",
    "\n",
    "ax1 = f.add_subplot(221) \n",
    "\n",
    "#plt.figure(figsize=(8,6))\n",
    "ax1.plot(scaled[1:100])\n",
    "ax1.set_title('Samples (100)')\n",
    "ax1.grid(True)\n",
    "ax2 = f.add_subplot(222)\n",
    "ax2.set_title('Full samples (44100)')\n",
    "ax2.plot(scaled)\n",
    "#ax2.title('Full samples')\n",
    "f.subplots_adjust(wspace=0.2)"
   ]
  },
  {
   "cell_type": "markdown",
   "metadata": {},
   "source": [
    "#### Play the generated sound without saving"
   ]
  },
  {
   "cell_type": "code",
   "execution_count": null,
   "metadata": {
    "scrolled": true
   },
   "outputs": [],
   "source": [
    "# \n",
    "fs = 5400\n",
    "data = np.random.uniform(-1, 1, fs)\n",
    "\n",
    "plt.plot(data)\n",
    "# play here without saving it\n",
    "sd.play(data, fs)"
   ]
  },
  {
   "cell_type": "markdown",
   "metadata": {},
   "source": [
    "#### Sin wave sound generation"
   ]
  },
  {
   "cell_type": "code",
   "execution_count": null,
   "metadata": {},
   "outputs": [],
   "source": [
    "import numpy as np\n",
    "from scipy.io import wavfile\n",
    "\n",
    "# generate sample sound\n",
    "# parameters implementation\n",
    "sampleRate = 44100 \n",
    "frequency = 440\n",
    "length = 5\n",
    "\n",
    "t = np.linspace(0, length, sampleRate * length)  #  Produces a 5 second Audio-File\n",
    "y = np.sin(frequency * 2 * np.pi * t)  #  Has frequency of 440Hz\n",
    "\n",
    "wavfile.write('Sine.wav', sampleRate, y)\n",
    "\n",
    "f = plt.figure(figsize=(16,10))\n",
    "\n",
    "ax1 = f.add_subplot(221) \n",
    "ax1.plot(y[1:500])\n",
    "ax1.set_title('Samples (500)')\n",
    "ax1.grid(True)\n",
    "ax2 = f.add_subplot(222)\n",
    "ax2.set_title('Full samples (44100)')\n",
    "ax2.plot(y)\n",
    "f.subplots_adjust(wspace=0.2)\n"
   ]
  },
  {
   "cell_type": "markdown",
   "metadata": {},
   "source": [
    "<a id='quantization'></a>\n",
    "<h1 style=\"color:black;font-size:28px;\"> II.Quantization and Sampling theorem</h1>\n"
   ]
  },
  {
   "cell_type": "markdown",
   "metadata": {},
   "source": [
    "## 2.1 Quantization"
   ]
  },
  {
   "cell_type": "markdown",
   "metadata": {},
   "source": [
    "<font size = '3'>**Quantization** is the process of mapping a continuous amplitude to a countable set of amplitude values. This refers also to the *requantization* of a signal from a large set of countable amplitude values to a smaller set. Scalar quantization is an instantaneous and memoryless operation. It can be applied to the continuous amplitude signal, also referred to as **analog signal** or to the (time-)discrete signal. The quantized discrete signal is termed as **digital signal**. The connections between the different domains is illustrated in the following for time dependent signals.</font>"
   ]
  },
  {
   "cell_type": "markdown",
   "metadata": {},
   "source": [
    "<img src=\"https://dsp-nbsphinx.readthedocs.io/en/nbsphinx-experiment/_images/analog_discrete_digital.png\" width='600' align='left'>"
   ]
  },
  {
   "cell_type": "markdown",
   "metadata": {},
   "source": [
    "##### Links for Quantization:\n",
    "- [Theory](https://dsp-nbsphinx.readthedocs.io/en/nbsphinx-experiment/quantization/introduction.html)\n",
    "- [Video(Youtube)](https://www.youtube.com/watch?v=FPB27nzeM-g)"
   ]
  },
  {
   "cell_type": "markdown",
   "metadata": {},
   "source": [
    "### Coding for Quantization"
   ]
  },
  {
   "cell_type": "code",
   "execution_count": null,
   "metadata": {
    "scrolled": true
   },
   "outputs": [],
   "source": [
    "#generate 50 data points \n",
    "n = np.arange(50);   # output is 0, 1, 2, 3, 4,..., 49.\n",
    "dt = 0.06/50\n",
    "#genrate sin wave signal with data points\n",
    "x = np.sin(2 * np.pi * 50 * n*dt)\n",
    "# plot the figures\n",
    "# set the figure size\n",
    "f = plt.figure(figsize=(16,10))\n",
    "\n",
    "# Analog signal plot\n",
    "ax1 = f.add_subplot(221)\n",
    "ax1.plot(x);\n",
    "ax1.set_title('Analog signal', fontsize=14, pad=10)\n",
    "ax1.grid(True)\n",
    "\n",
    "# Time-discrete signal plot\n",
    "ax2 = f.add_subplot(222)\n",
    "ax2.plot(x)\n",
    "markerline, stemlines, baseline = ax2.stem(n, x)\n",
    "plt.setp(markerline, 'color','r')\n",
    "ax2.set_title('Time-discrete singal', fontsize=14, pad=10)\n",
    "ax2.grid(True)\n",
    "\n",
    "# Quantized signal plot\n",
    "ax3 = f.add_subplot(223)\n",
    "ax3.plot(x)\n",
    "ax3.plot(x, linestyle='steps')\n",
    "ax3.set_title('Quantized signal', fontsize=14, pad=10)\n",
    "ax3.grid(True)\n",
    "\n",
    "# Digital signal plot\n",
    "ax4 = f.add_subplot(224)\n",
    "ax4.plot(x, linestyle='steps')\n",
    "markerline, stemlines, baseline = ax4.stem(n, x)\n",
    "plt.setp(markerline, 'color','r')\n",
    "ax4.set_title('Digital signal', fontsize=14, pad=10)\n",
    "ax4.grid(True)"
   ]
  },
  {
   "cell_type": "markdown",
   "metadata": {},
   "source": [
    "## 2.2 Sampling Theorem (Sampling, Aliasing and Nyquest theorem)"
   ]
  },
  {
   "cell_type": "markdown",
   "metadata": {},
   "source": [
    "##### Links:\n",
    "- [Sampling theorem](http://www.dspguide.com/ch3/2.htm)\n",
    "- [Youtube](https://www.youtube.com/watch?v=yWqrx08UeUs)"
   ]
  },
  {
   "cell_type": "markdown",
   "metadata": {},
   "source": [
    "### 2.1 Sampling"
   ]
  },
  {
   "cell_type": "markdown",
   "metadata": {},
   "source": [
    "<font size = '3'>**Sampling** is the reduction of a continuous-time signal to a discrete-time signal. A common example is the conversion of a sound wave (a continuous signal) to a sequence of samples (a discrete-time signal). A sample is a value or set of values at a point in time and/or space.</font>"
   ]
  },
  {
   "cell_type": "markdown",
   "metadata": {},
   "source": [
    "<img src=\"sampling.jpeg\" width=\"600\">"
   ]
  },
  {
   "cell_type": "markdown",
   "metadata": {},
   "source": [
    "### 2.2 Aliasing"
   ]
  },
  {
   "cell_type": "markdown",
   "metadata": {},
   "source": [
    "<font size = '3'>**Aliasing** is an effect that causes different signals to become indistinguishable (or aliases of one another) when sampled. It also refers to the distortion or artifact that results when the signal reconstructed from samples is different from the original continuous signal.</font>"
   ]
  },
  {
   "cell_type": "markdown",
   "metadata": {},
   "source": [
    "<img src=\"Slide3.jpeg\" width=\"400\">"
   ]
  },
  {
   "cell_type": "markdown",
   "metadata": {},
   "source": [
    "### 2.3 Nyquist theorem"
   ]
  },
  {
   "cell_type": "markdown",
   "metadata": {},
   "source": [
    "<font size = '3'>**Nyquist Theorem**, also known as the sampling theorem, is a principle that engineers follow in the digitization of analog signals. For analog-to-digital conversion (ADC) to result in a faithful reproduction of the signal, slices, called samples, of the analog waveform must be taken frequently.</font>"
   ]
  },
  {
   "cell_type": "markdown",
   "metadata": {},
   "source": [
    "<img src=\"Slide4.jpeg\" width=\"800\">"
   ]
  },
  {
   "cell_type": "markdown",
   "metadata": {},
   "source": [
    "### **Recommended to for further reading*"
   ]
  },
  {
   "cell_type": "markdown",
   "metadata": {},
   "source": [
    "#### Analog filters:\n",
    "- [Low pass filter](http://www.learningaboutelectronics.com/Articles/Low-pass-filter.php)\n",
    "- [High pass filter](https://en.wikipedia.org/wiki/High-pass_filter)\n",
    "- [The Bessel, Chebyshev and butterworth filters](http://www.idc-online.com/technical_references/pdfs/electronic_engineering/Types_of_Active_Filters.pdf)"
   ]
  },
  {
   "cell_type": "markdown",
   "metadata": {},
   "source": [
    "<a id='lss'></a>\n",
    "<h1 style=\"color:black;font-size:28px;\"> III.Linear Systems and Superposition</h1>\n"
   ]
  },
  {
   "cell_type": "markdown",
   "metadata": {},
   "source": [
    "### Introductory explanation"
   ]
  },
  {
   "cell_type": "markdown",
   "metadata": {},
   "source": [
    "<font size = '3'> Most DSP techniques are based on a divide-and-conquer strategy called superposition. The signal being processed is broken into simple components, each component is processed individually, and the results reunited. This approach has the tremendous power of breaking a single complicated problem into many easy ones. Superposition can only be used with linear systems, a term meaning that certain mathematical rules apply. Fortunately, most of the applications encountered in science and engineering fall into this category. This chapter presents the foundation of DSP: what it means for a system to be linear, various ways for breaking signals into simpler components, and how superposition provides a variety of signal processing techniques.</font>"
   ]
  },
  {
   "cell_type": "markdown",
   "metadata": {},
   "source": [
    "### 3.1 Linear Systems"
   ]
  },
  {
   "cell_type": "markdown",
   "metadata": {},
   "source": [
    "<font size = '3'>A system is called **linear** if it has two mathematical properties: **homogeneity**\n",
    " and **additivity**. If you can show that a system has both\n",
    "properties, then you have proven that the system is linear. Likewise, if you can\n",
    "show that a system doesn't have one or both properties, you have proven that\n",
    "it isn't linear. A third property, **shift invariance**, is not a strict requirement\n",
    "for linearity, but it is a mandatory property for most DSP techniques. When\n",
    "you see the term linear system used in DSP, you should assume it includes shift\n",
    "invariance unless you have reason to believe otherwise.</font>"
   ]
  },
  {
   "cell_type": "markdown",
   "metadata": {},
   "source": [
    "<img src=\"Images/Slide1.JPG\" width=\"700\" align=\"left\">"
   ]
  },
  {
   "cell_type": "markdown",
   "metadata": {},
   "source": [
    "<font size='3'>**3.1.1 Homogenity**</font>"
   ]
  },
  {
   "cell_type": "markdown",
   "metadata": {},
   "source": [
    "<font size='3'> **Homogeneity (Scaling)** means that a change in the input signal's amplitude results in a corresponding change in the output signal's amplitude. In mathematical terms, if an input signal of x[n] results in an output signal of y[n], an input of kx[n] results in an output of ky[n], for any input signal and constant, k.</font>"
   ]
  },
  {
   "cell_type": "markdown",
   "metadata": {},
   "source": [
    "<img src=\"Images/homo.jpeg\" align='left'>"
   ]
  },
  {
   "cell_type": "markdown",
   "metadata": {},
   "source": [
    "<font size='3'>**3.1.2 Additivity**</font>"
   ]
  },
  {
   "cell_type": "markdown",
   "metadata": {},
   "source": [
    "<font size='3'>**Additivity** is that consider a system where an input of x1[n] produces an output of y1[n]. Further suppose that a different input, x2[n], produces another output, y2[n]. The system is said to be additive, if an input of x1[n] + x2[n] results in an output of y1[n] + y2[n], for all possible input signals. In words, signals added at the input produce signals that are added at the output.<font/>"
   ]
  },
  {
   "cell_type": "markdown",
   "metadata": {},
   "source": [
    "<img src=\"Images/additivity.jpeg\" align='left'>"
   ]
  },
  {
   "cell_type": "markdown",
   "metadata": {},
   "source": [
    "<font size='3'>**3.1.3 Shift invariance**</font>"
   ]
  },
  {
   "cell_type": "markdown",
   "metadata": {},
   "source": [
    "<font size='3'>**Shift invariance** means that a shift in the input signal will result in nothing more than an identical shift in the output signal. In more formal terms, if an input signal of x[n] results in an output of y[n], an input signal of x[n + s] results in an output of y[n + s], for any input signal and any constant, s.<font/>"
   ]
  },
  {
   "cell_type": "markdown",
   "metadata": {},
   "source": [
    "<img src=\"Images/invariance.jpeg\" align='left'>"
   ]
  },
  {
   "cell_type": "markdown",
   "metadata": {},
   "source": [
    "### 3.2 Superposition principle: the Foundation of DSP"
   ]
  },
  {
   "cell_type": "markdown",
   "metadata": {},
   "source": [
    "<img src=\"Images/superposition.png\" width='600' align='left' >"
   ]
  },
  {
   "cell_type": "markdown",
   "metadata": {},
   "source": [
    "<font siz='3'>**Decomposition** is breaking a signal into additive components"
   ]
  },
  {
   "cell_type": "markdown",
   "metadata": {},
   "source": [
    "<font siz='3'>**Synthesis** is breaking a signal into additive components"
   ]
  },
  {
   "cell_type": "markdown",
   "metadata": {},
   "source": [
    "### **Recommended to for further reading*"
   ]
  },
  {
   "cell_type": "markdown",
   "metadata": {},
   "source": [
    "#### Commonly used Decompositions"
   ]
  },
  {
   "cell_type": "markdown",
   "metadata": {},
   "source": [
    "- [Impulse Decomposition] \n",
    "- Step Decomposition\n",
    "- Even/Odd Decompsition\n",
    "- Interlaced Decomposition\n",
    "- Fourier Decomposition\n",
    "\n",
    "#### Link:\n",
    "[Common decompositions](http://www.dspguide.com/ch5/7.htm)"
   ]
  },
  {
   "cell_type": "markdown",
   "metadata": {},
   "source": [
    "<a id='convolution'></a>\n",
    "<h1 style=\"color:black;font-size:28px;\"> IV. Convolution</h1>\n",
    "    "
   ]
  },
  {
   "cell_type": "code",
   "execution_count": null,
   "metadata": {},
   "outputs": [],
   "source": []
  }
 ],
 "metadata": {
  "kernelspec": {
   "display_name": "Python 3",
   "language": "python",
   "name": "python3"
  },
  "language_info": {
   "codemirror_mode": {
    "name": "ipython",
    "version": 3
   },
   "file_extension": ".py",
   "mimetype": "text/x-python",
   "name": "python",
   "nbconvert_exporter": "python",
   "pygments_lexer": "ipython3",
   "version": "3.7.1"
  }
 },
 "nbformat": 4,
 "nbformat_minor": 2
}
